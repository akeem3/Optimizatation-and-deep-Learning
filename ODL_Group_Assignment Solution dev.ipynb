{
  "cells": [
    {
      "cell_type": "markdown",
      "metadata": {
        "id": "cg38cLvUMNYr"
      },
      "source": [
        "#Data Preprocessing"
      ]
    },
    {
      "cell_type": "code",
      "execution_count": 43,
      "metadata": {
        "colab": {
          "base_uri": "https://localhost:8080/"
        },
        "id": "ykBL55qgK6P4",
        "outputId": "f4013856-f5a5-47ea-8982-c7398ce915ed"
      },
      "outputs": [
        {
          "name": "stdout",
          "output_type": "stream",
          "text": [
            "Drive already mounted at /content/drive; to attempt to forcibly remount, call drive.mount(\"/content/drive\", force_remount=True).\n"
          ]
        }
      ],
      "source": [
        "import pandas as pd\n",
        "from sklearn.preprocessing import LabelEncoder, MinMaxScaler\n",
        "from sklearn.model_selection import train_test_split\n",
        "from google.colab import drive\n",
        "drive.mount('/content/drive')"
      ]
    },
    {
      "cell_type": "code",
      "execution_count": 44,
      "metadata": {
        "id": "LHJlZxuuPSCw"
      },
      "outputs": [],
      "source": [
        "# Load the data\n",
        "data = pd.read_csv(\"/content/drive/MyDrive/Colab Notebooks/imdb-videogames.csv\")"
      ]
    },
    {
      "cell_type": "code",
      "execution_count": 45,
      "metadata": {
        "colab": {
          "base_uri": "https://localhost:8080/",
          "height": 649
        },
        "id": "R8Wp7M96Pt6p",
        "outputId": "6db7e3f9-51ea-40f3-9c87-c7f429a7af7a"
      },
      "outputs": [
        {
          "data": {
            "text/html": [
              "\n",
              "  <div id=\"df-e7fc21d3-1b0c-4a72-a126-fcf3389563f7\">\n",
              "    <div class=\"colab-df-container\">\n",
              "      <div>\n",
              "<style scoped>\n",
              "    .dataframe tbody tr th:only-of-type {\n",
              "        vertical-align: middle;\n",
              "    }\n",
              "\n",
              "    .dataframe tbody tr th {\n",
              "        vertical-align: top;\n",
              "    }\n",
              "\n",
              "    .dataframe thead th {\n",
              "        text-align: right;\n",
              "    }\n",
              "</style>\n",
              "<table border=\"1\" class=\"dataframe\">\n",
              "  <thead>\n",
              "    <tr style=\"text-align: right;\">\n",
              "      <th></th>\n",
              "      <th>Unnamed: 0</th>\n",
              "      <th>name</th>\n",
              "      <th>url</th>\n",
              "      <th>year</th>\n",
              "      <th>certificate</th>\n",
              "      <th>rating</th>\n",
              "      <th>votes</th>\n",
              "      <th>plot</th>\n",
              "      <th>Action</th>\n",
              "      <th>Adventure</th>\n",
              "      <th>Comedy</th>\n",
              "      <th>Crime</th>\n",
              "      <th>Family</th>\n",
              "      <th>Fantasy</th>\n",
              "      <th>Mystery</th>\n",
              "      <th>Sci-Fi</th>\n",
              "      <th>Thriller</th>\n",
              "    </tr>\n",
              "  </thead>\n",
              "  <tbody>\n",
              "    <tr>\n",
              "      <th>0</th>\n",
              "      <td>0</td>\n",
              "      <td>Spider-Man</td>\n",
              "      <td>https://www.imdb.com/title/tt5807780/?ref_=adv...</td>\n",
              "      <td>2018.0</td>\n",
              "      <td>T</td>\n",
              "      <td>9.2</td>\n",
              "      <td>20,759</td>\n",
              "      <td>When a new villain threatens New York City, Pe...</td>\n",
              "      <td>True</td>\n",
              "      <td>True</td>\n",
              "      <td>False</td>\n",
              "      <td>False</td>\n",
              "      <td>False</td>\n",
              "      <td>True</td>\n",
              "      <td>False</td>\n",
              "      <td>False</td>\n",
              "      <td>False</td>\n",
              "    </tr>\n",
              "    <tr>\n",
              "      <th>1</th>\n",
              "      <td>1</td>\n",
              "      <td>Red Dead Redemption II</td>\n",
              "      <td>https://www.imdb.com/title/tt6161168/?ref_=adv...</td>\n",
              "      <td>2018.0</td>\n",
              "      <td>M</td>\n",
              "      <td>9.7</td>\n",
              "      <td>35,703</td>\n",
              "      <td>Amidst the decline of the Wild West at the tur...</td>\n",
              "      <td>True</td>\n",
              "      <td>True</td>\n",
              "      <td>False</td>\n",
              "      <td>True</td>\n",
              "      <td>False</td>\n",
              "      <td>False</td>\n",
              "      <td>False</td>\n",
              "      <td>False</td>\n",
              "      <td>False</td>\n",
              "    </tr>\n",
              "    <tr>\n",
              "      <th>2</th>\n",
              "      <td>2</td>\n",
              "      <td>Grand Theft Auto V</td>\n",
              "      <td>https://www.imdb.com/title/tt2103188/?ref_=adv...</td>\n",
              "      <td>2013.0</td>\n",
              "      <td>M</td>\n",
              "      <td>9.5</td>\n",
              "      <td>59,986</td>\n",
              "      <td>Three very different criminals team up for a s...</td>\n",
              "      <td>True</td>\n",
              "      <td>False</td>\n",
              "      <td>False</td>\n",
              "      <td>True</td>\n",
              "      <td>False</td>\n",
              "      <td>False</td>\n",
              "      <td>False</td>\n",
              "      <td>False</td>\n",
              "      <td>False</td>\n",
              "    </tr>\n",
              "    <tr>\n",
              "      <th>3</th>\n",
              "      <td>3</td>\n",
              "      <td>God of War</td>\n",
              "      <td>https://www.imdb.com/title/tt5838588/?ref_=adv...</td>\n",
              "      <td>2018.0</td>\n",
              "      <td>M</td>\n",
              "      <td>9.6</td>\n",
              "      <td>26,118</td>\n",
              "      <td>After wiping out the gods of Mount Olympus, Kr...</td>\n",
              "      <td>True</td>\n",
              "      <td>True</td>\n",
              "      <td>False</td>\n",
              "      <td>False</td>\n",
              "      <td>False</td>\n",
              "      <td>False</td>\n",
              "      <td>False</td>\n",
              "      <td>False</td>\n",
              "      <td>False</td>\n",
              "    </tr>\n",
              "    <tr>\n",
              "      <th>4</th>\n",
              "      <td>4</td>\n",
              "      <td>Uncharted 4: A Thief's End</td>\n",
              "      <td>https://www.imdb.com/title/tt3334704/?ref_=adv...</td>\n",
              "      <td>2016.0</td>\n",
              "      <td>T</td>\n",
              "      <td>9.5</td>\n",
              "      <td>28,722</td>\n",
              "      <td>Thrown back into the dangerous underworld he'd...</td>\n",
              "      <td>True</td>\n",
              "      <td>True</td>\n",
              "      <td>False</td>\n",
              "      <td>False</td>\n",
              "      <td>False</td>\n",
              "      <td>False</td>\n",
              "      <td>False</td>\n",
              "      <td>False</td>\n",
              "      <td>False</td>\n",
              "    </tr>\n",
              "  </tbody>\n",
              "</table>\n",
              "</div>\n",
              "      <button class=\"colab-df-convert\" onclick=\"convertToInteractive('df-e7fc21d3-1b0c-4a72-a126-fcf3389563f7')\"\n",
              "              title=\"Convert this dataframe to an interactive table.\"\n",
              "              style=\"display:none;\">\n",
              "        \n",
              "  <svg xmlns=\"http://www.w3.org/2000/svg\" height=\"24px\"viewBox=\"0 0 24 24\"\n",
              "       width=\"24px\">\n",
              "    <path d=\"M0 0h24v24H0V0z\" fill=\"none\"/>\n",
              "    <path d=\"M18.56 5.44l.94 2.06.94-2.06 2.06-.94-2.06-.94-.94-2.06-.94 2.06-2.06.94zm-11 1L8.5 8.5l.94-2.06 2.06-.94-2.06-.94L8.5 2.5l-.94 2.06-2.06.94zm10 10l.94 2.06.94-2.06 2.06-.94-2.06-.94-.94-2.06-.94 2.06-2.06.94z\"/><path d=\"M17.41 7.96l-1.37-1.37c-.4-.4-.92-.59-1.43-.59-.52 0-1.04.2-1.43.59L10.3 9.45l-7.72 7.72c-.78.78-.78 2.05 0 2.83L4 21.41c.39.39.9.59 1.41.59.51 0 1.02-.2 1.41-.59l7.78-7.78 2.81-2.81c.8-.78.8-2.07 0-2.86zM5.41 20L4 18.59l7.72-7.72 1.47 1.35L5.41 20z\"/>\n",
              "  </svg>\n",
              "      </button>\n",
              "      \n",
              "  <style>\n",
              "    .colab-df-container {\n",
              "      display:flex;\n",
              "      flex-wrap:wrap;\n",
              "      gap: 12px;\n",
              "    }\n",
              "\n",
              "    .colab-df-convert {\n",
              "      background-color: #E8F0FE;\n",
              "      border: none;\n",
              "      border-radius: 50%;\n",
              "      cursor: pointer;\n",
              "      display: none;\n",
              "      fill: #1967D2;\n",
              "      height: 32px;\n",
              "      padding: 0 0 0 0;\n",
              "      width: 32px;\n",
              "    }\n",
              "\n",
              "    .colab-df-convert:hover {\n",
              "      background-color: #E2EBFA;\n",
              "      box-shadow: 0px 1px 2px rgba(60, 64, 67, 0.3), 0px 1px 3px 1px rgba(60, 64, 67, 0.15);\n",
              "      fill: #174EA6;\n",
              "    }\n",
              "\n",
              "    [theme=dark] .colab-df-convert {\n",
              "      background-color: #3B4455;\n",
              "      fill: #D2E3FC;\n",
              "    }\n",
              "\n",
              "    [theme=dark] .colab-df-convert:hover {\n",
              "      background-color: #434B5C;\n",
              "      box-shadow: 0px 1px 3px 1px rgba(0, 0, 0, 0.15);\n",
              "      filter: drop-shadow(0px 1px 2px rgba(0, 0, 0, 0.3));\n",
              "      fill: #FFFFFF;\n",
              "    }\n",
              "  </style>\n",
              "\n",
              "      <script>\n",
              "        const buttonEl =\n",
              "          document.querySelector('#df-e7fc21d3-1b0c-4a72-a126-fcf3389563f7 button.colab-df-convert');\n",
              "        buttonEl.style.display =\n",
              "          google.colab.kernel.accessAllowed ? 'block' : 'none';\n",
              "\n",
              "        async function convertToInteractive(key) {\n",
              "          const element = document.querySelector('#df-e7fc21d3-1b0c-4a72-a126-fcf3389563f7');\n",
              "          const dataTable =\n",
              "            await google.colab.kernel.invokeFunction('convertToInteractive',\n",
              "                                                     [key], {});\n",
              "          if (!dataTable) return;\n",
              "\n",
              "          const docLinkHtml = 'Like what you see? Visit the ' +\n",
              "            '<a target=\"_blank\" href=https://colab.research.google.com/notebooks/data_table.ipynb>data table notebook</a>'\n",
              "            + ' to learn more about interactive tables.';\n",
              "          element.innerHTML = '';\n",
              "          dataTable['output_type'] = 'display_data';\n",
              "          await google.colab.output.renderOutput(dataTable, element);\n",
              "          const docLink = document.createElement('div');\n",
              "          docLink.innerHTML = docLinkHtml;\n",
              "          element.appendChild(docLink);\n",
              "        }\n",
              "      </script>\n",
              "    </div>\n",
              "  </div>\n",
              "  "
            ],
            "text/plain": [
              "   Unnamed: 0                        name  \\\n",
              "0           0                  Spider-Man   \n",
              "1           1      Red Dead Redemption II   \n",
              "2           2          Grand Theft Auto V   \n",
              "3           3                  God of War   \n",
              "4           4  Uncharted 4: A Thief's End   \n",
              "\n",
              "                                                 url    year certificate  \\\n",
              "0  https://www.imdb.com/title/tt5807780/?ref_=adv...  2018.0           T   \n",
              "1  https://www.imdb.com/title/tt6161168/?ref_=adv...  2018.0           M   \n",
              "2  https://www.imdb.com/title/tt2103188/?ref_=adv...  2013.0           M   \n",
              "3  https://www.imdb.com/title/tt5838588/?ref_=adv...  2018.0           M   \n",
              "4  https://www.imdb.com/title/tt3334704/?ref_=adv...  2016.0           T   \n",
              "\n",
              "   rating   votes                                               plot  Action  \\\n",
              "0     9.2  20,759  When a new villain threatens New York City, Pe...    True   \n",
              "1     9.7  35,703  Amidst the decline of the Wild West at the tur...    True   \n",
              "2     9.5  59,986  Three very different criminals team up for a s...    True   \n",
              "3     9.6  26,118  After wiping out the gods of Mount Olympus, Kr...    True   \n",
              "4     9.5  28,722  Thrown back into the dangerous underworld he'd...    True   \n",
              "\n",
              "   Adventure  Comedy  Crime  Family  Fantasy  Mystery  Sci-Fi  Thriller  \n",
              "0       True   False  False   False     True    False   False     False  \n",
              "1       True   False   True   False    False    False   False     False  \n",
              "2      False   False   True   False    False    False   False     False  \n",
              "3       True   False  False   False    False    False   False     False  \n",
              "4       True   False  False   False    False    False   False     False  "
            ]
          },
          "execution_count": 45,
          "metadata": {},
          "output_type": "execute_result"
        }
      ],
      "source": [
        "data.head()"
      ]
    },
    {
      "cell_type": "code",
      "execution_count": 46,
      "metadata": {
        "colab": {
          "base_uri": "https://localhost:8080/"
        },
        "id": "s-h5udyqP9ix",
        "outputId": "92ccd56d-3397-48df-8f43-00dee6b2b7b6"
      },
      "outputs": [
        {
          "data": {
            "text/plain": [
              "(20803, 17)"
            ]
          },
          "execution_count": 46,
          "metadata": {},
          "output_type": "execute_result"
        }
      ],
      "source": [
        "data.shape"
      ]
    },
    {
      "cell_type": "code",
      "execution_count": 47,
      "metadata": {
        "colab": {
          "base_uri": "https://localhost:8080/"
        },
        "id": "vmkzn5cBQJ_f",
        "outputId": "7f8fa3d4-fe00-4414-dae9-f6323bdb9eb9"
      },
      "outputs": [
        {
          "data": {
            "text/plain": [
              "Index(['Unnamed: 0', 'name', 'url', 'year', 'certificate', 'rating', 'votes',\n",
              "       'plot', 'Action', 'Adventure', 'Comedy', 'Crime', 'Family', 'Fantasy',\n",
              "       'Mystery', 'Sci-Fi', 'Thriller'],\n",
              "      dtype='object')"
            ]
          },
          "execution_count": 47,
          "metadata": {},
          "output_type": "execute_result"
        }
      ],
      "source": [
        "data.columns"
      ]
    },
    {
      "cell_type": "code",
      "execution_count": 48,
      "metadata": {
        "id": "D7_wungYQeMG"
      },
      "outputs": [],
      "source": [
        "# Data Cleaning\n",
        "data = data.dropna()\n",
        "data = data.drop_duplicates()\n",
        "\n",
        "# Feature Selection\n",
        "data = data[[\"year\", \"certificate\", \"rating\", \"votes\", \"Action\", \"Adventure\", \"Comedy\", \"Crime\", \"Family\", \"Fantasy\", \"Mystery\", \"Sci-Fi\", \"Thriller\"]]\n",
        "\n",
        "# Data Transformation\n",
        "# Label Encoding for categorical variables\n",
        "data['certificate'] = LabelEncoder().fit_transform(data['certificate'])"
      ]
    },
    {
      "cell_type": "code",
      "execution_count": 49,
      "metadata": {
        "id": "_e8khPDVR2Z1"
      },
      "outputs": [],
      "source": [
        "# Data Normalization\n",
        "scaler = MinMaxScaler()\n",
        "# convert the votes column to numeric before applying normalization\n",
        "data[\"votes\"] = pd.to_numeric(data[\"votes\"].str.replace(\",\",\"\"))\n",
        "data[[\"year\", \"rating\", \"votes\"]] = scaler.fit_transform(data[[\"year\", \"rating\", \"votes\"]])"
      ]
    },
    {
      "cell_type": "code",
      "execution_count": 50,
      "metadata": {
        "id": "tEk3F5mzR7Z9"
      },
      "outputs": [],
      "source": [
        "# Data Split\n",
        "train_data, test_data, train_target, test_target = train_test_split(data.drop([\"rating\"], axis=1), data[[\"rating\"]], test_size=0.2, random_state=42)\n",
        "\n"
      ]
    },
    {
      "cell_type": "code",
      "execution_count": 51,
      "metadata": {
        "colab": {
          "base_uri": "https://localhost:8080/",
          "height": 311
        },
        "id": "FQqzKnxhS5wL",
        "outputId": "e61b145a-4aa6-4e27-c1df-24bb65a5de21"
      },
      "outputs": [
        {
          "data": {
            "image/png": "[encoded data removed]",
            "text/plain": [
              "<Figure size 432x288 with 2 Axes>"
            ]
          },
          "metadata": {
            "needs_background": "light"
          },
          "output_type": "display_data"
        }
      ],
      "source": [
        "import seaborn as sns\n",
        "import matplotlib.pyplot as plt\n",
        "\n",
        "# calculate the correlation matrix\n",
        "corr = data.corr()\n",
        "\n",
        "# create a heatmap\n",
        "sns.heatmap(corr, xticklabels=corr.columns, yticklabels=corr.columns, cmap='coolwarm')\n",
        "\n",
        "# show the plot\n",
        "plt.show()"
      ]
    },
    {
      "cell_type": "markdown",
      "metadata": {
        "id": "YPxr02NBMRg7"
      },
      "source": [
        "#Model Implemntation"
      ]
    },
    {
      "cell_type": "markdown",
      "metadata": {
        "id": "XTYFhcDtTXYz"
      },
      "source": [
        "#Logistic Regression Model"
      ]
    },
    {
      "cell_type": "code",
      "execution_count": null,
      "metadata": {
        "colab": {
          "base_uri": "https://localhost:8080/"
        },
        "id": "Ta0CrIktTcoi",
        "outputId": "85b0dd31-b2cf-4d39-e500-80b449523b0c"
      },
      "outputs": [
        {
          "name": "stdout",
          "output_type": "stream",
          "text": [
            "Accuracy: 94.17%\n"
          ]
        }
      ],
      "source": [
        "from sklearn.linear_model import LogisticRegression\n",
        "from sklearn.metrics import accuracy_score, confusion_matrix\n",
        "\n",
        "# Initialize the model\n",
        "log_reg = LogisticRegression()\n",
        "\n",
        "# Train the model\n",
        "log_reg.fit(train_data, train_target)\n",
        "\n",
        "# Make predictions on the test set\n",
        "predictions = log_reg.predict(test_data)\n",
        "\n",
        "# Convert test_target to binary labels\n",
        "test_target = (test_target >= 0.5).astype(int)\n",
        "\n",
        "# Calculate accuracy\n",
        "accuracy = accuracy_score(test_target, predictions)\n",
        "print(\"Accuracy: %.2f%%\" % (accuracy*100))\n",
        "\n",
        "\n",
        "\n"
      ]
    },
    {
      "cell_type": "code",
      "execution_count": null,
      "metadata": {
        "colab": {
          "base_uri": "https://localhost:8080/"
        },
        "id": "NkQs9_nptHjU",
        "outputId": "dca51b66-5976-45a7-f59b-db0d99ff8731"
      },
      "outputs": [
        {
          "name": "stdout",
          "output_type": "stream",
          "text": [
            "[[   0   77]\n",
            " [   0 1243]]\n"
          ]
        }
      ],
      "source": [
        "# Print confusion matrix\n",
        "conf_matrix = confusion_matrix(test_target, predictions)\n",
        "print(conf_matrix)"
      ]
    },
    {
      "cell_type": "markdown",
      "metadata": {
        "id": "EWVmvMtwT_o8"
      },
      "source": [
        "#Model Tuning (logistic)"
      ]
    },
    {
      "cell_type": "code",
      "execution_count": null,
      "metadata": {
        "colab": {
          "base_uri": "https://localhost:8080/"
        },
        "id": "I0UTiP7q0sbp",
        "outputId": "2f7c6217-48f8-410b-8845-fdfe8f15b37c"
      },
      "outputs": [
        {
          "name": "stdout",
          "output_type": "stream",
          "text": [
            "Fitting 3 folds for each of 40 candidates, totalling 120 fits\n"
          ]
        },
        {
          "name": "stderr",
          "output_type": "stream",
          "text": [
            "/usr/local/lib/python3.8/dist-packages/sklearn/model_selection/_split.py:676: UserWarning: The least populated class in y has only 1 members, which is less than n_splits=3.\n",
            "  warnings.warn(\n"
          ]
        },
        {
          "name": "stdout",
          "output_type": "stream",
          "text": [
            "Best: nan using {'C': 0.5, 'max_iter': 1000, 'penalty': 'l2', 'solver': 'lbfgs'}\n",
            "nan (nan) with: {'C': 0.5, 'max_iter': 1000, 'penalty': 'l2', 'solver': 'lbfgs'}\n",
            "nan (nan) with: {'C': 0.5, 'max_iter': 1000, 'penalty': 'l1', 'solver': 'lbfgs'}\n",
            "nan (nan) with: {'C': 0.5, 'max_iter': 5000, 'penalty': 'l2', 'solver': 'lbfgs'}\n",
            "nan (nan) with: {'C': 0.5, 'max_iter': 5000, 'penalty': 'l1', 'solver': 'lbfgs'}\n",
            "nan (nan) with: {'C': 0.5, 'max_iter': 10000, 'penalty': 'l2', 'solver': 'lbfgs'}\n",
            "nan (nan) with: {'C': 0.5, 'max_iter': 10000, 'penalty': 'l1', 'solver': 'lbfgs'}\n",
            "nan (nan) with: {'C': 0.5, 'max_iter': 20000, 'penalty': 'l2', 'solver': 'lbfgs'}\n",
            "nan (nan) with: {'C': 0.5, 'max_iter': 20000, 'penalty': 'l1', 'solver': 'lbfgs'}\n",
            "nan (nan) with: {'C': 1, 'max_iter': 1000, 'penalty': 'l2', 'solver': 'lbfgs'}\n",
            "nan (nan) with: {'C': 1, 'max_iter': 1000, 'penalty': 'l1', 'solver': 'lbfgs'}\n",
            "nan (nan) with: {'C': 1, 'max_iter': 5000, 'penalty': 'l2', 'solver': 'lbfgs'}\n",
            "nan (nan) with: {'C': 1, 'max_iter': 5000, 'penalty': 'l1', 'solver': 'lbfgs'}\n",
            "nan (nan) with: {'C': 1, 'max_iter': 10000, 'penalty': 'l2', 'solver': 'lbfgs'}\n",
            "nan (nan) with: {'C': 1, 'max_iter': 10000, 'penalty': 'l1', 'solver': 'lbfgs'}\n",
            "nan (nan) with: {'C': 1, 'max_iter': 20000, 'penalty': 'l2', 'solver': 'lbfgs'}\n",
            "nan (nan) with: {'C': 1, 'max_iter': 20000, 'penalty': 'l1', 'solver': 'lbfgs'}\n",
            "nan (nan) with: {'C': 2, 'max_iter': 1000, 'penalty': 'l2', 'solver': 'lbfgs'}\n",
            "nan (nan) with: {'C': 2, 'max_iter': 1000, 'penalty': 'l1', 'solver': 'lbfgs'}\n",
            "nan (nan) with: {'C': 2, 'max_iter': 5000, 'penalty': 'l2', 'solver': 'lbfgs'}\n",
            "nan (nan) with: {'C': 2, 'max_iter': 5000, 'penalty': 'l1', 'solver': 'lbfgs'}\n",
            "nan (nan) with: {'C': 2, 'max_iter': 10000, 'penalty': 'l2', 'solver': 'lbfgs'}\n",
            "nan (nan) with: {'C': 2, 'max_iter': 10000, 'penalty': 'l1', 'solver': 'lbfgs'}\n",
            "nan (nan) with: {'C': 2, 'max_iter': 20000, 'penalty': 'l2', 'solver': 'lbfgs'}\n",
            "nan (nan) with: {'C': 2, 'max_iter': 20000, 'penalty': 'l1', 'solver': 'lbfgs'}\n",
            "nan (nan) with: {'C': 3, 'max_iter': 1000, 'penalty': 'l2', 'solver': 'lbfgs'}\n",
            "nan (nan) with: {'C': 3, 'max_iter': 1000, 'penalty': 'l1', 'solver': 'lbfgs'}\n",
            "nan (nan) with: {'C': 3, 'max_iter': 5000, 'penalty': 'l2', 'solver': 'lbfgs'}\n",
            "nan (nan) with: {'C': 3, 'max_iter': 5000, 'penalty': 'l1', 'solver': 'lbfgs'}\n",
            "nan (nan) with: {'C': 3, 'max_iter': 10000, 'penalty': 'l2', 'solver': 'lbfgs'}\n",
            "nan (nan) with: {'C': 3, 'max_iter': 10000, 'penalty': 'l1', 'solver': 'lbfgs'}\n",
            "nan (nan) with: {'C': 3, 'max_iter': 20000, 'penalty': 'l2', 'solver': 'lbfgs'}\n",
            "nan (nan) with: {'C': 3, 'max_iter': 20000, 'penalty': 'l1', 'solver': 'lbfgs'}\n",
            "nan (nan) with: {'C': 5, 'max_iter': 1000, 'penalty': 'l2', 'solver': 'lbfgs'}\n",
            "nan (nan) with: {'C': 5, 'max_iter': 1000, 'penalty': 'l1', 'solver': 'lbfgs'}\n",
            "nan (nan) with: {'C': 5, 'max_iter': 5000, 'penalty': 'l2', 'solver': 'lbfgs'}\n",
            "nan (nan) with: {'C': 5, 'max_iter': 5000, 'penalty': 'l1', 'solver': 'lbfgs'}\n",
            "nan (nan) with: {'C': 5, 'max_iter': 10000, 'penalty': 'l2', 'solver': 'lbfgs'}\n",
            "nan (nan) with: {'C': 5, 'max_iter': 10000, 'penalty': 'l1', 'solver': 'lbfgs'}\n",
            "nan (nan) with: {'C': 5, 'max_iter': 20000, 'penalty': 'l2', 'solver': 'lbfgs'}\n",
            "nan (nan) with: {'C': 5, 'max_iter': 20000, 'penalty': 'l1', 'solver': 'lbfgs'}\n"
          ]
        },
        {
          "name": "stderr",
          "output_type": "stream",
          "text": [
            "/usr/local/lib/python3.8/dist-packages/sklearn/model_selection/_validation.py:372: FitFailedWarning: \n",
            "80 fits failed out of a total of 120.\n",
            "The score on these train-test partitions for these parameters will be set to nan.\n",
            "If these failures are not expected, you can try to debug them by setting error_score='raise'.\n",
            "\n",
            "Below are more details about the failures:\n",
            "--------------------------------------------------------------------------------\n",
            "20 fits failed with the following error:\n",
            "Traceback (most recent call last):\n",
            "  File \"/usr/local/lib/python3.8/dist-packages/sklearn/model_selection/_validation.py\", line 680, in _fit_and_score\n",
            "    estimator.fit(X_train, y_train, **fit_params)\n",
            "  File \"/usr/local/lib/python3.8/dist-packages/sklearn/linear_model/_logistic.py\", line 1554, in fit\n",
            "    raise ValueError(\n",
            "ValueError: This solver needs samples of at least 2 classes in the data, but the data contains only one class: 1.0\n",
            "\n",
            "--------------------------------------------------------------------------------\n",
            "60 fits failed with the following error:\n",
            "Traceback (most recent call last):\n",
            "  File \"/usr/local/lib/python3.8/dist-packages/sklearn/model_selection/_validation.py\", line 680, in _fit_and_score\n",
            "    estimator.fit(X_train, y_train, **fit_params)\n",
            "  File \"/usr/local/lib/python3.8/dist-packages/sklearn/linear_model/_logistic.py\", line 1461, in fit\n",
            "    solver = _check_solver(self.solver, self.penalty, self.dual)\n",
            "  File \"/usr/local/lib/python3.8/dist-packages/sklearn/linear_model/_logistic.py\", line 447, in _check_solver\n",
            "    raise ValueError(\n",
            "ValueError: Solver lbfgs supports only 'l2' or 'none' penalties, got l1 penalty.\n",
            "\n",
            "  warnings.warn(some_fits_failed_message, FitFailedWarning)\n",
            "/usr/local/lib/python3.8/dist-packages/sklearn/model_selection/_search.py:969: UserWarning: One or more of the test scores are non-finite: [nan nan nan nan nan nan nan nan nan nan nan nan nan nan nan nan nan nan\n",
            " nan nan nan nan nan nan nan nan nan nan nan nan nan nan nan nan nan nan\n",
            " nan nan nan nan]\n",
            "  warnings.warn(\n"
          ]
        }
      ],
      "source": [
        "# Define the parameter grid\n",
        "param_grid = {'solver': ['lbfgs'], 'penalty': ['l2', 'l1'], 'C': [0.5, 1, 2, 3, 5], 'max_iter': [1000, 5000, 10000, 20000]}\n",
        "\n",
        "# Initialize the logistic regression model\n",
        "log_reg = LogisticRegression(random_state = 0)\n",
        "\n",
        "# Create the grid search\n",
        "grid_search = GridSearchCV(log_reg, param_grid, cv=3, verbose=1, n_jobs=-1)\n",
        "grid_search.fit(train_data, train_target)\n",
        "\n",
        "# Summarize results\n",
        "print(\"Best: %f using %s\" % (grid_search.best_score_, grid_search.best_params_))\n",
        "means = grid_search.cv_results_['mean_test_score']\n",
        "stds = grid_search.cv_results_['std_test_score']\n",
        "params = grid_search.cv_results_['params']\n",
        "for mean, stdev, param in zip(means, stds, params):\n",
        "    print(\"%f (%f) with: %r\" % (mean, stdev, param))\n"
      ]
    },
    {
      "cell_type": "markdown",
      "metadata": {
        "id": "54OJMZVCTc80"
      },
      "source": [
        "#ANN Model Implementation"
      ]
    },
    {
      "cell_type": "code",
      "execution_count": 32,
      "metadata": {
        "colab": {
          "base_uri": "https://localhost:8080/"
        },
        "id": "l0qDYulATgqs",
        "outputId": "e5ec1d17-52b0-4f6c-9b08-6a54bc19d72f"
      },
      "outputs": [
        {
          "name": "stderr",
          "output_type": "stream",
          "text": [
            "/usr/local/lib/python3.8/dist-packages/keras/optimizers/optimizer_v2/adam.py:110: UserWarning: The `lr` argument is deprecated, use `learning_rate` instead.\n",
            "  super(Adam, self).__init__(name, **kwargs)\n"
          ]
        },
        {
          "name": "stdout",
          "output_type": "stream",
          "text": [
            "Epoch 1/50\n",
            "165/165 [==============================] - 1s 3ms/step - loss: 0.0953 - accuracy: 0.9047 - val_loss: 0.0622 - val_accuracy: 0.9417\n",
            "Epoch 2/50\n",
            "165/165 [==============================] - 0s 2ms/step - loss: 0.0617 - accuracy: 0.9400 - val_loss: 0.0605 - val_accuracy: 0.9417\n",
            "Epoch 3/50\n",
            "165/165 [==============================] - 0s 2ms/step - loss: 0.0603 - accuracy: 0.9400 - val_loss: 0.0573 - val_accuracy: 0.9417\n",
            "Epoch 4/50\n",
            "165/165 [==============================] - 0s 2ms/step - loss: 0.0588 - accuracy: 0.9400 - val_loss: 0.0561 - val_accuracy: 0.9417\n",
            "Epoch 5/50\n",
            "165/165 [==============================] - 0s 2ms/step - loss: 0.0606 - accuracy: 0.9400 - val_loss: 0.0572 - val_accuracy: 0.9417\n",
            "Epoch 6/50\n",
            "165/165 [==============================] - 0s 2ms/step - loss: 0.0584 - accuracy: 0.9401 - val_loss: 0.0613 - val_accuracy: 0.9417\n",
            "Epoch 7/50\n",
            "165/165 [==============================] - 0s 2ms/step - loss: 0.0573 - accuracy: 0.9401 - val_loss: 0.0569 - val_accuracy: 0.9417\n",
            "Epoch 8/50\n",
            "165/165 [==============================] - 0s 2ms/step - loss: 0.0583 - accuracy: 0.9401 - val_loss: 0.0577 - val_accuracy: 0.9417\n",
            "Epoch 9/50\n",
            "165/165 [==============================] - 0s 3ms/step - loss: 0.0574 - accuracy: 0.9401 - val_loss: 0.0565 - val_accuracy: 0.9417\n",
            "Epoch 10/50\n",
            "165/165 [==============================] - 0s 2ms/step - loss: 0.0594 - accuracy: 0.9401 - val_loss: 0.0563 - val_accuracy: 0.9417\n",
            "Epoch 11/50\n",
            "165/165 [==============================] - 0s 3ms/step - loss: 0.0566 - accuracy: 0.9401 - val_loss: 0.0562 - val_accuracy: 0.9417\n",
            "Epoch 12/50\n",
            "165/165 [==============================] - 0s 2ms/step - loss: 0.0563 - accuracy: 0.9401 - val_loss: 0.0641 - val_accuracy: 0.9417\n",
            "Epoch 13/50\n",
            "165/165 [==============================] - 0s 2ms/step - loss: 0.0562 - accuracy: 0.9401 - val_loss: 0.0559 - val_accuracy: 0.9417\n",
            "Epoch 14/50\n",
            "165/165 [==============================] - 0s 2ms/step - loss: 0.0568 - accuracy: 0.9403 - val_loss: 0.0576 - val_accuracy: 0.9417\n",
            "Epoch 15/50\n",
            "165/165 [==============================] - 0s 2ms/step - loss: 0.0562 - accuracy: 0.9400 - val_loss: 0.0624 - val_accuracy: 0.9417\n",
            "Epoch 16/50\n",
            "165/165 [==============================] - 0s 2ms/step - loss: 0.0573 - accuracy: 0.9403 - val_loss: 0.0557 - val_accuracy: 0.9417\n",
            "Epoch 17/50\n",
            "165/165 [==============================] - 0s 2ms/step - loss: 0.0564 - accuracy: 0.9400 - val_loss: 0.0563 - val_accuracy: 0.9417\n",
            "Epoch 18/50\n",
            "165/165 [==============================] - 0s 2ms/step - loss: 0.0561 - accuracy: 0.9401 - val_loss: 0.0554 - val_accuracy: 0.9417\n",
            "Epoch 19/50\n",
            "165/165 [==============================] - 0s 2ms/step - loss: 0.0568 - accuracy: 0.9401 - val_loss: 0.0568 - val_accuracy: 0.9417\n",
            "Epoch 20/50\n",
            "165/165 [==============================] - 0s 2ms/step - loss: 0.0571 - accuracy: 0.9400 - val_loss: 0.0557 - val_accuracy: 0.9417\n",
            "Epoch 21/50\n",
            "165/165 [==============================] - 0s 2ms/step - loss: 0.0564 - accuracy: 0.9403 - val_loss: 0.0579 - val_accuracy: 0.9417\n",
            "Epoch 22/50\n",
            "165/165 [==============================] - 0s 2ms/step - loss: 0.0561 - accuracy: 0.9401 - val_loss: 0.0557 - val_accuracy: 0.9417\n",
            "Epoch 23/50\n",
            "165/165 [==============================] - 0s 2ms/step - loss: 0.0564 - accuracy: 0.9401 - val_loss: 0.0560 - val_accuracy: 0.9417\n",
            "Epoch 24/50\n",
            "165/165 [==============================] - 0s 2ms/step - loss: 0.0558 - accuracy: 0.9401 - val_loss: 0.0635 - val_accuracy: 0.9417\n",
            "Epoch 25/50\n",
            "165/165 [==============================] - 0s 3ms/step - loss: 0.0549 - accuracy: 0.9401 - val_loss: 0.0561 - val_accuracy: 0.9417\n",
            "Epoch 26/50\n",
            "165/165 [==============================] - 0s 2ms/step - loss: 0.0550 - accuracy: 0.9400 - val_loss: 0.0553 - val_accuracy: 0.9417\n",
            "Epoch 27/50\n",
            "165/165 [==============================] - 0s 2ms/step - loss: 0.0564 - accuracy: 0.9401 - val_loss: 0.0557 - val_accuracy: 0.9417\n",
            "Epoch 28/50\n",
            "165/165 [==============================] - 0s 2ms/step - loss: 0.0551 - accuracy: 0.9401 - val_loss: 0.0669 - val_accuracy: 0.9417\n",
            "Epoch 29/50\n",
            "165/165 [==============================] - 0s 2ms/step - loss: 0.0562 - accuracy: 0.9400 - val_loss: 0.0556 - val_accuracy: 0.9417\n",
            "Epoch 30/50\n",
            "165/165 [==============================] - 0s 2ms/step - loss: 0.0563 - accuracy: 0.9400 - val_loss: 0.0558 - val_accuracy: 0.9417\n",
            "Epoch 31/50\n",
            "165/165 [==============================] - 0s 2ms/step - loss: 0.0550 - accuracy: 0.9401 - val_loss: 0.0562 - val_accuracy: 0.9417\n",
            "Epoch 32/50\n",
            "165/165 [==============================] - 0s 2ms/step - loss: 0.0556 - accuracy: 0.9401 - val_loss: 0.0593 - val_accuracy: 0.9417\n",
            "Epoch 33/50\n",
            "165/165 [==============================] - 0s 2ms/step - loss: 0.0559 - accuracy: 0.9401 - val_loss: 0.0601 - val_accuracy: 0.9417\n",
            "Epoch 34/50\n",
            "165/165 [==============================] - 0s 2ms/step - loss: 0.0565 - accuracy: 0.9401 - val_loss: 0.0563 - val_accuracy: 0.9417\n",
            "Epoch 35/50\n",
            "165/165 [==============================] - 0s 2ms/step - loss: 0.0554 - accuracy: 0.9401 - val_loss: 0.0585 - val_accuracy: 0.9417\n",
            "Epoch 36/50\n",
            "165/165 [==============================] - 0s 2ms/step - loss: 0.0557 - accuracy: 0.9403 - val_loss: 0.0561 - val_accuracy: 0.9417\n",
            "Epoch 37/50\n",
            "165/165 [==============================] - 0s 2ms/step - loss: 0.0561 - accuracy: 0.9401 - val_loss: 0.0777 - val_accuracy: 0.9417\n",
            "Epoch 38/50\n",
            "165/165 [==============================] - 0s 2ms/step - loss: 0.0559 - accuracy: 0.9401 - val_loss: 0.0562 - val_accuracy: 0.9417\n",
            "Epoch 39/50\n",
            "165/165 [==============================] - 0s 2ms/step - loss: 0.0557 - accuracy: 0.9400 - val_loss: 0.0564 - val_accuracy: 0.9417\n",
            "Epoch 40/50\n",
            "165/165 [==============================] - 0s 2ms/step - loss: 0.0555 - accuracy: 0.9401 - val_loss: 0.0575 - val_accuracy: 0.9417\n",
            "Epoch 41/50\n",
            "165/165 [==============================] - 0s 2ms/step - loss: 0.0558 - accuracy: 0.9400 - val_loss: 0.0574 - val_accuracy: 0.9417\n",
            "Epoch 42/50\n",
            "165/165 [==============================] - 0s 2ms/step - loss: 0.0548 - accuracy: 0.9401 - val_loss: 0.0580 - val_accuracy: 0.9417\n",
            "Epoch 43/50\n",
            "165/165 [==============================] - 0s 2ms/step - loss: 0.0549 - accuracy: 0.9401 - val_loss: 0.0562 - val_accuracy: 0.9417\n",
            "Epoch 44/50\n",
            "165/165 [==============================] - 1s 5ms/step - loss: 0.0551 - accuracy: 0.9401 - val_loss: 0.0576 - val_accuracy: 0.9417\n",
            "Epoch 45/50\n",
            "165/165 [==============================] - 1s 6ms/step - loss: 0.0555 - accuracy: 0.9401 - val_loss: 0.0563 - val_accuracy: 0.9417\n",
            "Epoch 46/50\n",
            "165/165 [==============================] - 1s 5ms/step - loss: 0.0558 - accuracy: 0.9400 - val_loss: 0.0556 - val_accuracy: 0.9417\n",
            "Epoch 47/50\n",
            "165/165 [==============================] - 0s 2ms/step - loss: 0.0546 - accuracy: 0.9401 - val_loss: 0.0615 - val_accuracy: 0.9417\n",
            "Epoch 48/50\n",
            "165/165 [==============================] - 0s 2ms/step - loss: 0.0554 - accuracy: 0.9400 - val_loss: 0.0561 - val_accuracy: 0.9417\n",
            "Epoch 49/50\n",
            "165/165 [==============================] - 0s 3ms/step - loss: 0.0552 - accuracy: 0.9401 - val_loss: 0.0566 - val_accuracy: 0.9417\n",
            "Epoch 50/50\n",
            "165/165 [==============================] - 0s 2ms/step - loss: 0.0546 - accuracy: 0.9400 - val_loss: 0.0576 - val_accuracy: 0.9417\n"
          ]
        },
        {
          "data": {
            "text/plain": [
              "<keras.callbacks.History at 0x7fb9bba16820>"
            ]
          },
          "execution_count": 32,
          "metadata": {},
          "output_type": "execute_result"
        }
      ],
      "source": [
        "from keras.models import Sequential\n",
        "from keras.layers import Dense\n",
        "from keras.optimizers import Adam\n",
        "from sklearn.metrics import mean_squared_error, r2_score\n",
        "\n",
        "# Convert data types\n",
        "train_data = train_data.astype('float32')\n",
        "train_target = train_target.astype('float32')\n",
        "test_data = test_data.astype('float32')\n",
        "test_target = test_target.astype('float32')\n",
        "\n",
        "# Initialize the model\n",
        "model = Sequential()\n",
        "\n",
        "# Add layers to the model\n",
        "model.add(Dense(32, input_shape=(train_data.shape[1],), activation='relu')) # input layer\n",
        "model.add(Dense(64, activation='relu')) # hidden layer\n",
        "model.add(Dense(1, activation='linear')) # output layer\n",
        "\n",
        "# Compile the model\n",
        "model.compile(optimizer=Adam(lr=0.001), loss='mean_squared_error', metrics=['accuracy'])\n",
        "\n",
        "# Train the model\n",
        "model.fit(train_data, train_target, epochs=50, batch_size=32, validation_data=(test_data, test_target), verbose=1)\n",
        "\n",
        "\n"
      ]
    },
    {
      "cell_type": "code",
      "execution_count": 33,
      "metadata": {
        "colab": {
          "base_uri": "https://localhost:8080/"
        },
        "id": "koMq1czoZZd8",
        "outputId": "63115763-2ea4-4bbe-89e2-0a775b6809fb"
      },
      "outputs": [
        {
          "name": "stdout",
          "output_type": "stream",
          "text": [
            "42/42 [==============================] - 0s 1ms/step\n",
            "Mean squared error:  0.05758429\n",
            "R-squared:  -0.048310705504150286\n",
            "Accuracy:  0.9416666626930237\n"
          ]
        }
      ],
      "source": [
        "# Evaluation on test set\n",
        "y_pred = model.predict(test_data)\n",
        "mse = mean_squared_error(test_target, y_pred)\n",
        "r2 = r2_score(test_target, y_pred)\n",
        "\n",
        "# Calculate accuracy\n",
        "accuracy = model.evaluate(test_data, test_target, verbose=0)\n",
        "\n",
        "print(\"Mean squared error: \", mse)\n",
        "print(\"R-squared: \", r2)\n",
        "print(\"Accuracy: \", accuracy[1])"
      ]
    },
    {
      "cell_type": "code",
      "execution_count": 41,
      "metadata": {
        "colab": {
          "base_uri": "https://localhost:8080/",
          "height": 311
        },
        "id": "xUDPiP366_2D",
        "outputId": "90d0e69d-4d68-4e23-9ed3-de2d37dc13ac"
      },
      "outputs": [
        {
          "data": {
            "image/png": "[encoded data removed]",
            "text/plain": [
              "<Figure size 432x288 with 2 Axes>"
            ]
          },
          "metadata": {
            "needs_background": "light"
          },
          "output_type": "display_data"
        }
      ],
      "source": [
        "import seaborn as sns\n",
        "import matplotlib.pyplot as plt\n",
        "\n",
        "# calculate the correlation matrix\n",
        "corr = train_data.corr()\n",
        "\n",
        "# create a heatmap\n",
        "sns.heatmap(corr, xticklabels=corr.columns, yticklabels=corr.columns, cmap='coolwarm')\n",
        "\n",
        "# show the plot\n",
        "plt.show()\n"
      ]
    },
    {
      "cell_type": "markdown",
      "metadata": {
        "id": "0ATUlQT5T0V_"
      },
      "source": [
        "#Model Tuning(ANN)"
      ]
    },
    {
      "cell_type": "code",
      "execution_count": null,
      "metadata": {
        "colab": {
          "base_uri": "https://localhost:8080/"
        },
        "id": "v8_hQvZaT3AS",
        "outputId": "a685efff-43ab-4595-9e93-a6fd8ba43819"
      },
      "outputs": [
        {
          "name": "stdout",
          "output_type": "stream",
          "text": [
            "Fitting 3 folds for each of 100 candidates, totalling 300 fits\n"
          ]
        },
        {
          "name": "stderr",
          "output_type": "stream",
          "text": [
            "<ipython-input-84-13b80fb6f284>:17: DeprecationWarning: KerasRegressor is deprecated, use Sci-Keras (https://github.com/adriangb/scikeras) instead. See https://www.adriangb.com/scikeras/stable/migration.html for help migrating.\n",
            "  model = KerasRegressor(build_fn=create_model)\n",
            "/usr/local/lib/python3.8/dist-packages/keras/optimizers/optimizer_v2/adam.py:110: UserWarning: The `lr` argument is deprecated, use `learning_rate` instead.\n",
            "  super(Adam, self).__init__(name, **kwargs)\n"
          ]
        },
        {
          "name": "stdout",
          "output_type": "stream",
          "text": [
            "165/165 [==============================] - 1s 2ms/step - loss: 0.0419 - mean_absolute_error: 0.1147\n"
          ]
        }
      ],
      "source": [
        "from keras.wrappers.scikit_learn import KerasRegressor\n",
        "from sklearn.model_selection import RandomizedSearchCV\n",
        "from scipy.stats import uniform\n",
        "from keras.layers import Dropout\n",
        "\n",
        "# Create a function to build the model\n",
        "def create_model(hidden_neurons=32, learning_rate=0.001, dropout=0.0):\n",
        "    model = Sequential()\n",
        "    model.add(Dense(hidden_neurons, input_shape=(train_data.shape[1],), activation='relu')) # input layer\n",
        "    model.add(Dropout(dropout))  # add dropout layer to prevent overfitting\n",
        "    model.add(Dense(64, activation='relu')) # hidden layer\n",
        "    model.add(Dense(1, activation='linear')) # output layer\n",
        "    model.compile(optimizer=Adam(lr=learning_rate), loss='mean_squared_error', metrics=['mean_absolute_error'])\n",
        "    return model\n",
        "\n",
        "# Create an instance of the model\n",
        "model = KerasRegressor(build_fn=create_model)\n",
        "\n",
        "# Define the parameter grid\n",
        "param_grid = {'hidden_neurons': uniform(10, 50),\n",
        "              'learning_rate': uniform(0.0001, 0.01),\n",
        "              'dropout': uniform(0, 0.5)}\n",
        "\n",
        "# Create the randomized search\n",
        "random_search = RandomizedSearchCV(model, param_distributions=param_grid, n_iter=100, cv=3, verbose=1, n_jobs=-1)\n",
        "random_result = random_search.fit(train_data, train_target)\n",
        "\n",
        "\n"
      ]
    },
    {
      "cell_type": "code",
      "execution_count": null,
      "metadata": {
        "colab": {
          "base_uri": "https://localhost:8080/"
        },
        "id": "u69T-fj3e-Z2",
        "outputId": "c7a6fc36-0525-4f44-a8dd-d554092b2edb"
      },
      "outputs": [
        {
          "name": "stdout",
          "output_type": "stream",
          "text": [
            "Best: -0.002200 using {'dropout': 0.12672402304971825, 'hidden_neurons': 14.035603118491892, 'learning_rate': 0.009143792675169632}\n",
            "-0.085803 (0.020425) with: {'dropout': 0.3012425476080905, 'hidden_neurons': 57.79853459349186, 'learning_rate': 0.0003976866324535388}\n",
            "-0.020885 (0.002870) with: {'dropout': 0.23147486604062334, 'hidden_neurons': 37.78025509711273, 'learning_rate': 0.0025523941915289246}\n",
            "-0.034302 (0.017521) with: {'dropout': 0.36816363403750463, 'hidden_neurons': 47.64558334635554, 'learning_rate': 0.007338157547852854}\n",
            "-0.043191 (0.024021) with: {'dropout': 0.3832574408894506, 'hidden_neurons': 52.15429643219593, 'learning_rate': 0.003043284869841598}\n",
            "-0.012104 (0.005361) with: {'dropout': 0.06546018372972706, 'hidden_neurons': 23.035429885743927, 'learning_rate': 0.00566770356692767}\n",
            "-0.038404 (0.018705) with: {'dropout': 0.39775560419224004, 'hidden_neurons': 57.54003700010252, 'learning_rate': 0.0037387712132742365}\n",
            "-0.010791 (0.000519) with: {'dropout': 0.42342164533310434, 'hidden_neurons': 44.91215653678147, 'learning_rate': 0.009055151071900604}\n",
            "-0.011205 (0.003988) with: {'dropout': 0.09212533845144721, 'hidden_neurons': 47.429717170978435, 'learning_rate': 0.005814954495864412}\n",
            "-0.024479 (0.005957) with: {'dropout': 0.44043182148500726, 'hidden_neurons': 33.93072631666657, 'learning_rate': 0.0074760263193500345}\n",
            "-0.038380 (0.003342) with: {'dropout': 0.31175559092956223, 'hidden_neurons': 55.398789078069115, 'learning_rate': 0.005506801184123002}\n",
            "-0.159767 (0.016225) with: {'dropout': 0.43427728480089717, 'hidden_neurons': 13.136255530114536, 'learning_rate': 0.0005910561999248497}\n",
            "-0.052210 (0.048211) with: {'dropout': 0.49639267564173895, 'hidden_neurons': 52.37735461659003, 'learning_rate': 0.0038656885499298707}\n",
            "-0.011971 (0.007681) with: {'dropout': 0.2420488925300498, 'hidden_neurons': 45.0390349215817, 'learning_rate': 0.008818582437737742}\n",
            "-0.061417 (0.014079) with: {'dropout': 0.44417226244534225, 'hidden_neurons': 50.56230896641177, 'learning_rate': 0.006624791834716805}\n",
            "-0.018254 (0.012053) with: {'dropout': 0.27894593845582727, 'hidden_neurons': 21.41283149551251, 'learning_rate': 0.004796648116053824}\n",
            "-0.043332 (0.011088) with: {'dropout': 0.3567454836780669, 'hidden_neurons': 33.22316846493476, 'learning_rate': 0.006615533827259585}\n",
            "-0.008387 (0.001405) with: {'dropout': 0.09487834119099214, 'hidden_neurons': 47.00205471554645, 'learning_rate': 0.00504242161568163}\n",
            "-0.009941 (0.005960) with: {'dropout': 0.0746955035619144, 'hidden_neurons': 12.714085763230589, 'learning_rate': 0.0031540667021292598}\n",
            "-0.019542 (0.005314) with: {'dropout': 0.2170820792314863, 'hidden_neurons': 31.07347528753803, 'learning_rate': 0.007504744468455777}\n",
            "-0.016307 (0.007724) with: {'dropout': 0.198584149637268, 'hidden_neurons': 52.26398591376888, 'learning_rate': 0.007957740062653706}\n",
            "-0.015938 (0.003032) with: {'dropout': 0.27132301001962317, 'hidden_neurons': 43.26914442498624, 'learning_rate': 0.007849315469831211}\n",
            "-0.004094 (0.000445) with: {'dropout': 0.001659162024900962, 'hidden_neurons': 26.926594436643406, 'learning_rate': 0.0071345512847995245}\n",
            "-0.008088 (0.001539) with: {'dropout': 0.023268142883333842, 'hidden_neurons': 44.94050026310731, 'learning_rate': 0.005633176146286257}\n",
            "-0.008480 (0.001785) with: {'dropout': 0.10879022400157573, 'hidden_neurons': 28.74348899063762, 'learning_rate': 0.003776497366673176}\n",
            "-0.008861 (0.001763) with: {'dropout': 0.17593662164948748, 'hidden_neurons': 45.8943209992856, 'learning_rate': 0.008227384461423423}\n",
            "-0.046816 (0.032598) with: {'dropout': 0.4859336345536514, 'hidden_neurons': 37.93080855844016, 'learning_rate': 0.008194678275450692}\n",
            "-0.006312 (0.002107) with: {'dropout': 0.012064079618953505, 'hidden_neurons': 51.54776293333581, 'learning_rate': 0.0044431693673697824}\n",
            "-0.079001 (0.028113) with: {'dropout': 0.31791883827331363, 'hidden_neurons': 17.961356162569434, 'learning_rate': 0.0008872538896893212}\n",
            "-0.009444 (0.002572) with: {'dropout': 0.150314116354603, 'hidden_neurons': 20.2672499118813, 'learning_rate': 0.0031226860989160697}\n",
            "-0.067368 (0.055247) with: {'dropout': 0.39179126495688205, 'hidden_neurons': 42.23117494669416, 'learning_rate': 0.003102875714571902}\n",
            "-0.031820 (0.025100) with: {'dropout': 0.36446223546006207, 'hidden_neurons': 23.287980884964362, 'learning_rate': 0.005540707418994311}\n",
            "-0.053712 (0.016567) with: {'dropout': 0.3135043968742722, 'hidden_neurons': 41.56731553780992, 'learning_rate': 0.0037977932554561864}\n",
            "-0.005470 (0.000820) with: {'dropout': 0.041779306488997636, 'hidden_neurons': 56.13005469401221, 'learning_rate': 0.00483891644762741}\n",
            "-0.078161 (0.019700) with: {'dropout': 0.29592766001036075, 'hidden_neurons': 14.932509601006185, 'learning_rate': 0.0012045715876516617}\n",
            "-0.020704 (0.025640) with: {'dropout': 0.2488283329144491, 'hidden_neurons': 10.571867288562938, 'learning_rate': 0.004246078743024342}\n",
            "-0.124628 (0.047910) with: {'dropout': 0.314320190289759, 'hidden_neurons': 30.42646235469279, 'learning_rate': 0.0005714846442528476}\n",
            "-0.009282 (0.005010) with: {'dropout': 0.17903265119088618, 'hidden_neurons': 27.87364789298489, 'learning_rate': 0.009603280035766838}\n",
            "-0.007956 (0.001439) with: {'dropout': 0.1648220120556596, 'hidden_neurons': 43.228724155192815, 'learning_rate': 0.007369713879422121}\n",
            "-0.023428 (0.007302) with: {'dropout': 0.33274005259713985, 'hidden_neurons': 36.39645805172104, 'learning_rate': 0.002192771535449558}\n",
            "-0.005422 (0.001309) with: {'dropout': 0.03317112639487069, 'hidden_neurons': 56.60053799315561, 'learning_rate': 0.005656278193181672}\n",
            "-0.011307 (0.005301) with: {'dropout': 0.13477978230870535, 'hidden_neurons': 55.61077668435239, 'learning_rate': 0.0036114084785846064}\n",
            "-0.008538 (0.002764) with: {'dropout': 0.17524530508454766, 'hidden_neurons': 59.39195971128903, 'learning_rate': 0.006539377571781955}\n",
            "-0.008755 (0.003169) with: {'dropout': 0.09795955442296705, 'hidden_neurons': 30.73948307080399, 'learning_rate': 0.007927016513288884}\n",
            "-0.020485 (0.013119) with: {'dropout': 0.16074362950612253, 'hidden_neurons': 49.70834358212319, 'learning_rate': 0.0043109606693817765}\n",
            "-0.008653 (0.001989) with: {'dropout': 0.13167573742627764, 'hidden_neurons': 48.455511388512306, 'learning_rate': 0.006255619783989053}\n",
            "-0.032951 (0.003450) with: {'dropout': 0.4349265868194681, 'hidden_neurons': 39.17516432213734, 'learning_rate': 0.007016959784332927}\n",
            "-0.023624 (0.009473) with: {'dropout': 0.010347839794959901, 'hidden_neurons': 43.67696506492737, 'learning_rate': 0.000891498742692438}\n",
            "-0.252213 (0.078859) with: {'dropout': 0.4179019236004107, 'hidden_neurons': 48.316828829211566, 'learning_rate': 0.00031254241168175424}\n",
            "-0.029642 (0.014514) with: {'dropout': 0.48913060939413955, 'hidden_neurons': 22.390059861714974, 'learning_rate': 0.00971635032397632}\n",
            "-0.011542 (0.009246) with: {'dropout': 0.20601330828956532, 'hidden_neurons': 40.89700217350391, 'learning_rate': 0.009918080476328119}\n",
            "-0.066097 (0.017312) with: {'dropout': 0.2919884548538903, 'hidden_neurons': 57.89771566383333, 'learning_rate': 0.0023394546022111095}\n",
            "-0.008558 (0.002732) with: {'dropout': 0.08266663674930014, 'hidden_neurons': 46.666414962154185, 'learning_rate': 0.0065183793550435305}\n",
            "-0.006748 (0.001475) with: {'dropout': 0.08084730843002663, 'hidden_neurons': 44.098754522170516, 'learning_rate': 0.007096039285649988}\n",
            "-0.006480 (0.001949) with: {'dropout': 0.03928022661239727, 'hidden_neurons': 56.64570205974416, 'learning_rate': 0.005664916699845514}\n",
            "-0.036875 (0.013864) with: {'dropout': 0.4946866835679323, 'hidden_neurons': 17.808678858501917, 'learning_rate': 0.0036232613837105807}\n",
            "-0.023709 (0.007893) with: {'dropout': 0.22939224193444713, 'hidden_neurons': 52.138144215935625, 'learning_rate': 0.003074023657388711}\n",
            "-0.003391 (0.001554) with: {'dropout': 0.16263536208100848, 'hidden_neurons': 43.536390803750905, 'learning_rate': 0.005994824407238938}\n",
            "-0.007013 (0.002242) with: {'dropout': 0.01330474157717948, 'hidden_neurons': 51.004417419089464, 'learning_rate': 0.009898669148491052}\n",
            "-0.025754 (0.016098) with: {'dropout': 0.09098793386480392, 'hidden_neurons': 13.224292011058623, 'learning_rate': 0.0013682548063063526}\n",
            "-0.031651 (0.018969) with: {'dropout': 0.4303065964911848, 'hidden_neurons': 15.439675575185642, 'learning_rate': 0.003897272473239768}\n",
            "-0.017687 (0.002571) with: {'dropout': 0.2540465737122397, 'hidden_neurons': 32.562730783848174, 'learning_rate': 0.00218248785673072}\n",
            "-0.069221 (0.018750) with: {'dropout': 0.3316135147028929, 'hidden_neurons': 19.0253118795817, 'learning_rate': 0.001514449711660525}\n",
            "-0.002200 (0.001870) with: {'dropout': 0.12672402304971825, 'hidden_neurons': 14.035603118491892, 'learning_rate': 0.009143792675169632}\n",
            "-0.011553 (0.013132) with: {'dropout': 0.31937730331736736, 'hidden_neurons': 11.134399090293975, 'learning_rate': 0.004928025251775052}\n",
            "-0.025618 (0.005135) with: {'dropout': 0.3073063206903606, 'hidden_neurons': 58.49377825388238, 'learning_rate': 0.00918313572284786}\n",
            "-0.018900 (0.015848) with: {'dropout': 0.41222004034751675, 'hidden_neurons': 15.921677599773373, 'learning_rate': 0.004009987380100294}\n",
            "-0.007156 (0.000951) with: {'dropout': 0.04553379753215897, 'hidden_neurons': 16.332115182312485, 'learning_rate': 0.004313990325017746}\n",
            "-0.005260 (0.001795) with: {'dropout': 0.04056461629485658, 'hidden_neurons': 28.163535378039903, 'learning_rate': 0.006183597056222552}\n",
            "-0.276891 (0.134702) with: {'dropout': 0.4706204978374429, 'hidden_neurons': 43.83324685128821, 'learning_rate': 0.00031067053649910017}\n",
            "-0.012357 (0.013141) with: {'dropout': 0.37756261509029493, 'hidden_neurons': 45.458983751892646, 'learning_rate': 0.008965091995111108}\n",
            "-0.012159 (0.009141) with: {'dropout': 0.49251937461099266, 'hidden_neurons': 34.83469107645036, 'learning_rate': 0.009592981419561804}\n",
            "-0.006488 (0.001170) with: {'dropout': 0.015023325940145271, 'hidden_neurons': 46.65429855471506, 'learning_rate': 0.005009365105215244}\n",
            "-0.002774 (0.000759) with: {'dropout': 0.06558517626566268, 'hidden_neurons': 18.187245571633646, 'learning_rate': 0.0075133574964624745}\n",
            "-0.027970 (0.007756) with: {'dropout': 0.19987860964900184, 'hidden_neurons': 22.900833251441753, 'learning_rate': 0.0026916181715556883}\n",
            "-0.010508 (0.003305) with: {'dropout': 0.07161958648774303, 'hidden_neurons': 51.083934000008504, 'learning_rate': 0.0038804645394706593}\n",
            "-0.092327 (0.034706) with: {'dropout': 0.43939777297426225, 'hidden_neurons': 25.892231864967684, 'learning_rate': 0.0021723525103487817}\n",
            "-0.005832 (0.001398) with: {'dropout': 0.03181123431033578, 'hidden_neurons': 34.11504407089511, 'learning_rate': 0.0062437806610309825}\n",
            "-0.130083 (0.033643) with: {'dropout': 0.22717510678969421, 'hidden_neurons': 10.199421446060999, 'learning_rate': 0.0003802673575939418}\n",
            "-0.006346 (0.002625) with: {'dropout': 0.09608907670126954, 'hidden_neurons': 40.75621800998667, 'learning_rate': 0.009621113989896438}\n",
            "-0.042920 (0.042340) with: {'dropout': 0.27756761211811176, 'hidden_neurons': 49.972187201051554, 'learning_rate': 0.0018075585652742177}\n",
            "-0.008516 (0.002700) with: {'dropout': 0.093618874420348, 'hidden_neurons': 46.66880228968613, 'learning_rate': 0.004804179724558214}\n",
            "-0.006814 (0.003593) with: {'dropout': 0.18650435248060915, 'hidden_neurons': 33.58742973777123, 'learning_rate': 0.006000801162470136}\n",
            "-0.018778 (0.006562) with: {'dropout': 0.2499904860161518, 'hidden_neurons': 29.103478872618812, 'learning_rate': 0.008858244804029894}\n",
            "-0.058653 (0.015513) with: {'dropout': 0.4960182840845694, 'hidden_neurons': 58.12418189021945, 'learning_rate': 0.004256931205375116}\n",
            "-0.306713 (0.092836) with: {'dropout': 0.2954205713976906, 'hidden_neurons': 10.286384452843786, 'learning_rate': 0.00019115856023226068}\n",
            "-0.031730 (0.014015) with: {'dropout': 0.21504701149762667, 'hidden_neurons': 24.17337701721585, 'learning_rate': 0.0017901817436590428}\n",
            "-0.029177 (0.004740) with: {'dropout': 0.10487142586656717, 'hidden_neurons': 38.94415321973625, 'learning_rate': 0.0007045101286706045}\n",
            "-0.020675 (0.005497) with: {'dropout': 0.3578054398585512, 'hidden_neurons': 53.45267232537672, 'learning_rate': 0.00849343499423629}\n",
            "-0.022508 (0.016155) with: {'dropout': 0.2638483203990769, 'hidden_neurons': 43.71335166939625, 'learning_rate': 0.003044534035610279}\n",
            "-0.020546 (0.004729) with: {'dropout': 0.19120372019980775, 'hidden_neurons': 25.68242203206985, 'learning_rate': 0.004876783036996467}\n",
            "-0.027132 (0.011931) with: {'dropout': 0.33315959103565607, 'hidden_neurons': 17.291922927353276, 'learning_rate': 0.0025381361395593613}\n",
            "-0.026698 (0.016078) with: {'dropout': 0.3608049094187638, 'hidden_neurons': 34.47681616352518, 'learning_rate': 0.008312540619087292}\n",
            "-0.219986 (0.073023) with: {'dropout': 0.47330901364614303, 'hidden_neurons': 18.356936910239998, 'learning_rate': 0.0002371349434639979}\n",
            "-0.124824 (0.095235) with: {'dropout': 0.42516513312787974, 'hidden_neurons': 15.110608641026005, 'learning_rate': 0.001009246606764007}\n",
            "-0.033542 (0.004058) with: {'dropout': 0.1878399097119584, 'hidden_neurons': 39.90896796465037, 'learning_rate': 0.0025475800525989888}\n",
            "-0.065343 (0.023149) with: {'dropout': 0.07827547859538697, 'hidden_neurons': 34.90861045228614, 'learning_rate': 0.0004609295891523512}\n",
            "-0.010042 (0.007771) with: {'dropout': 0.14683261216456334, 'hidden_neurons': 35.53636179269768, 'learning_rate': 0.007054111578011465}\n",
            "-0.125889 (0.022373) with: {'dropout': 0.4457813711846387, 'hidden_neurons': 40.640500789389336, 'learning_rate': 0.0018976704206424588}\n",
            "-0.005146 (0.000819) with: {'dropout': 0.015822026985447657, 'hidden_neurons': 58.06594009877209, 'learning_rate': 0.005418256922188393}\n",
            "-0.013870 (0.004805) with: {'dropout': 0.259122083166953, 'hidden_neurons': 53.05697807777142, 'learning_rate': 0.009689109386211207}\n"
          ]
        }
      ],
      "source": [
        "# Summarize results\n",
        "print(\"Best: %f using %s\" % (random_result.best_score_, random_result.best_params_))\n",
        "means = random_result.cv_results_['mean_test_score']\n",
        "stds = random_result.cv_results_['std_test_score']\n",
        "params = random_result.cv_results_['params']\n",
        "for mean, stdev, param in zip(means, stds, params):\n",
        "    print(\"%f (%f) with: %r\" % (mean, stdev, param))\n"
      ]
    },
    {
      "cell_type": "markdown",
      "metadata": {
        "id": "1bObqTGFA6ZG"
      },
      "source": [
        "#RNN Model Implementation "
      ]
    },
    {
      "cell_type": "code",
      "execution_count": 53,
      "metadata": {
        "colab": {
          "base_uri": "https://localhost:8080/",
          "height": 1000
        },
        "id": "BR0OkbJRA-1e",
        "outputId": "52d432cc-07fc-4c95-b6f1-0b50eb1a0f9a"
      },
      "outputs": [
        {
          "name": "stdout",
          "output_type": "stream",
          "text": [
            "Epoch 1/50\n",
            "165/165 [==============================] - 6s 11ms/step - loss: 0.0649 - accuracy: 0.0017 - val_loss: 0.0170 - val_accuracy: 0.0015\n",
            "Epoch 2/50\n",
            "165/165 [==============================] - 1s 5ms/step - loss: 0.0235 - accuracy: 0.0017 - val_loss: 0.0163 - val_accuracy: 0.0015\n",
            "Epoch 3/50\n",
            "165/165 [==============================] - 1s 5ms/step - loss: 0.0213 - accuracy: 0.0017 - val_loss: 0.0154 - val_accuracy: 0.0015\n",
            "Epoch 4/50\n",
            "165/165 [==============================] - 1s 5ms/step - loss: 0.0201 - accuracy: 0.0017 - val_loss: 0.0151 - val_accuracy: 0.0015\n",
            "Epoch 5/50\n",
            "165/165 [==============================] - 1s 5ms/step - loss: 0.0196 - accuracy: 0.0017 - val_loss: 0.0149 - val_accuracy: 0.0015\n",
            "Epoch 6/50\n",
            "165/165 [==============================] - 1s 6ms/step - loss: 0.0188 - accuracy: 0.0017 - val_loss: 0.0148 - val_accuracy: 0.0015\n",
            "Epoch 7/50\n",
            "165/165 [==============================] - 1s 5ms/step - loss: 0.0187 - accuracy: 0.0017 - val_loss: 0.0145 - val_accuracy: 0.0015\n",
            "Epoch 8/50\n",
            "165/165 [==============================] - 1s 5ms/step - loss: 0.0181 - accuracy: 0.0017 - val_loss: 0.0151 - val_accuracy: 0.0015\n",
            "Epoch 9/50\n",
            "165/165 [==============================] - 1s 5ms/step - loss: 0.0181 - accuracy: 0.0017 - val_loss: 0.0142 - val_accuracy: 0.0015\n",
            "Epoch 10/50\n",
            "165/165 [==============================] - 1s 5ms/step - loss: 0.0177 - accuracy: 0.0017 - val_loss: 0.0147 - val_accuracy: 0.0015\n",
            "Epoch 11/50\n",
            "165/165 [==============================] - 1s 5ms/step - loss: 0.0174 - accuracy: 0.0017 - val_loss: 0.0140 - val_accuracy: 0.0015\n",
            "Epoch 12/50\n",
            "165/165 [==============================] - 1s 5ms/step - loss: 0.0173 - accuracy: 0.0017 - val_loss: 0.0141 - val_accuracy: 0.0015\n",
            "Epoch 13/50\n",
            "165/165 [==============================] - 1s 5ms/step - loss: 0.0170 - accuracy: 0.0017 - val_loss: 0.0139 - val_accuracy: 0.0015\n",
            "Epoch 14/50\n",
            "165/165 [==============================] - 1s 5ms/step - loss: 0.0174 - accuracy: 0.0017 - val_loss: 0.0141 - val_accuracy: 0.0015\n",
            "Epoch 15/50\n",
            "165/165 [==============================] - 1s 5ms/step - loss: 0.0169 - accuracy: 0.0017 - val_loss: 0.0138 - val_accuracy: 0.0015\n",
            "Epoch 16/50\n",
            "165/165 [==============================] - 1s 5ms/step - loss: 0.0169 - accuracy: 0.0017 - val_loss: 0.0139 - val_accuracy: 0.0015\n",
            "Epoch 17/50\n",
            "165/165 [==============================] - 1s 5ms/step - loss: 0.0168 - accuracy: 0.0017 - val_loss: 0.0138 - val_accuracy: 0.0015\n",
            "Epoch 18/50\n",
            "165/165 [==============================] - 1s 5ms/step - loss: 0.0171 - accuracy: 0.0017 - val_loss: 0.0137 - val_accuracy: 0.0015\n",
            "Epoch 19/50\n",
            "165/165 [==============================] - 1s 5ms/step - loss: 0.0164 - accuracy: 0.0017 - val_loss: 0.0137 - val_accuracy: 0.0015\n",
            "Epoch 20/50\n",
            "165/165 [==============================] - 1s 5ms/step - loss: 0.0167 - accuracy: 0.0017 - val_loss: 0.0136 - val_accuracy: 0.0015\n",
            "Epoch 21/50\n",
            "165/165 [==============================] - 1s 5ms/step - loss: 0.0161 - accuracy: 0.0017 - val_loss: 0.0136 - val_accuracy: 0.0015\n",
            "Epoch 22/50\n",
            "165/165 [==============================] - 1s 5ms/step - loss: 0.0162 - accuracy: 0.0017 - val_loss: 0.0137 - val_accuracy: 0.0015\n",
            "Epoch 23/50\n",
            "165/165 [==============================] - 1s 5ms/step - loss: 0.0162 - accuracy: 0.0017 - val_loss: 0.0138 - val_accuracy: 0.0015\n",
            "Epoch 24/50\n",
            "165/165 [==============================] - 1s 5ms/step - loss: 0.0157 - accuracy: 0.0017 - val_loss: 0.0137 - val_accuracy: 0.0015\n",
            "Epoch 25/50\n",
            "165/165 [==============================] - 1s 5ms/step - loss: 0.0157 - accuracy: 0.0017 - val_loss: 0.0141 - val_accuracy: 0.0015\n",
            "Epoch 26/50\n",
            "165/165 [==============================] - 1s 5ms/step - loss: 0.0161 - accuracy: 0.0017 - val_loss: 0.0135 - val_accuracy: 0.0015\n",
            "Epoch 27/50\n",
            "165/165 [==============================] - 1s 5ms/step - loss: 0.0157 - accuracy: 0.0017 - val_loss: 0.0140 - val_accuracy: 0.0015\n",
            "Epoch 28/50\n",
            "165/165 [==============================] - 1s 5ms/step - loss: 0.0159 - accuracy: 0.0017 - val_loss: 0.0136 - val_accuracy: 0.0015\n",
            "Epoch 29/50\n",
            "165/165 [==============================] - 1s 5ms/step - loss: 0.0155 - accuracy: 0.0017 - val_loss: 0.0134 - val_accuracy: 0.0015\n",
            "Epoch 30/50\n",
            "165/165 [==============================] - 1s 5ms/step - loss: 0.0156 - accuracy: 0.0017 - val_loss: 0.0133 - val_accuracy: 0.0015\n",
            "Epoch 31/50\n",
            "165/165 [==============================] - 1s 5ms/step - loss: 0.0154 - accuracy: 0.0017 - val_loss: 0.0134 - val_accuracy: 0.0015\n",
            "Epoch 32/50\n",
            "165/165 [==============================] - 1s 5ms/step - loss: 0.0155 - accuracy: 0.0017 - val_loss: 0.0134 - val_accuracy: 0.0015\n",
            "Epoch 33/50\n",
            "165/165 [==============================] - 1s 5ms/step - loss: 0.0154 - accuracy: 0.0017 - val_loss: 0.0133 - val_accuracy: 0.0015\n",
            "Epoch 34/50\n",
            "165/165 [==============================] - 1s 5ms/step - loss: 0.0153 - accuracy: 0.0017 - val_loss: 0.0134 - val_accuracy: 0.0015\n",
            "Epoch 35/50\n",
            "165/165 [==============================] - 1s 5ms/step - loss: 0.0152 - accuracy: 0.0017 - val_loss: 0.0133 - val_accuracy: 0.0015\n",
            "Epoch 36/50\n",
            "165/165 [==============================] - 1s 5ms/step - loss: 0.0153 - accuracy: 0.0017 - val_loss: 0.0144 - val_accuracy: 0.0015\n",
            "Epoch 37/50\n",
            "165/165 [==============================] - 1s 5ms/step - loss: 0.0152 - accuracy: 0.0017 - val_loss: 0.0135 - val_accuracy: 0.0015\n",
            "Epoch 38/50\n",
            "165/165 [==============================] - 1s 5ms/step - loss: 0.0153 - accuracy: 0.0017 - val_loss: 0.0133 - val_accuracy: 0.0015\n",
            "Epoch 39/50\n",
            "165/165 [==============================] - 1s 5ms/step - loss: 0.0150 - accuracy: 0.0017 - val_loss: 0.0133 - val_accuracy: 0.0015\n",
            "Epoch 40/50\n",
            "165/165 [==============================] - 1s 5ms/step - loss: 0.0151 - accuracy: 0.0017 - val_loss: 0.0133 - val_accuracy: 0.0015\n",
            "Epoch 41/50\n",
            "165/165 [==============================] - 1s 5ms/step - loss: 0.0151 - accuracy: 0.0017 - val_loss: 0.0132 - val_accuracy: 0.0015\n",
            "Epoch 42/50\n",
            "165/165 [==============================] - 1s 5ms/step - loss: 0.0149 - accuracy: 0.0017 - val_loss: 0.0133 - val_accuracy: 0.0015\n",
            "Epoch 43/50\n",
            "165/165 [==============================] - 1s 5ms/step - loss: 0.0149 - accuracy: 0.0017 - val_loss: 0.0132 - val_accuracy: 0.0015\n",
            "Epoch 44/50\n",
            "165/165 [==============================] - 1s 5ms/step - loss: 0.0148 - accuracy: 0.0017 - val_loss: 0.0134 - val_accuracy: 0.0015\n",
            "Epoch 45/50\n",
            "165/165 [==============================] - 1s 5ms/step - loss: 0.0148 - accuracy: 0.0017 - val_loss: 0.0136 - val_accuracy: 0.0015\n",
            "Epoch 46/50\n",
            "165/165 [==============================] - 1s 6ms/step - loss: 0.0149 - accuracy: 0.0017 - val_loss: 0.0133 - val_accuracy: 0.0015\n",
            "Epoch 47/50\n",
            "165/165 [==============================] - 1s 5ms/step - loss: 0.0148 - accuracy: 0.0017 - val_loss: 0.0132 - val_accuracy: 0.0015\n",
            "Epoch 48/50\n",
            "165/165 [==============================] - 1s 5ms/step - loss: 0.0149 - accuracy: 0.0017 - val_loss: 0.0133 - val_accuracy: 0.0015\n",
            "Epoch 49/50\n",
            "165/165 [==============================] - 1s 5ms/step - loss: 0.0147 - accuracy: 0.0017 - val_loss: 0.0132 - val_accuracy: 0.0015\n",
            "Epoch 50/50\n",
            "165/165 [==============================] - 1s 5ms/step - loss: 0.0147 - accuracy: 0.0017 - val_loss: 0.0133 - val_accuracy: 0.0015\n"
          ]
        },
        {
          "data": {
            "image/png": "[encoded data removed]",
            "text/plain": [
              "<Figure size 432x288 with 1 Axes>"
            ]
          },
          "metadata": {
            "needs_background": "light"
          },
          "output_type": "display_data"
        },
        {
          "data": {
            "image/png": "[encoded data removed]",
            "text/plain": [
              "<Figure size 432x288 with 1 Axes>"
            ]
          },
          "metadata": {
            "needs_background": "light"
          },
          "output_type": "display_data"
        },
        {
          "name": "stdout",
          "output_type": "stream",
          "text": [
            "42/42 [==============================] - 1s 2ms/step\n",
            "Mean squared error:  0.013320902\n",
            "R-squared:  0.1926791112999231\n",
            "Accuracy: 0.15%\n"
          ]
        }
      ],
      "source": [
        "from keras.layers import LSTM, Dropout\n",
        "from sklearn.metrics import accuracy_score\n",
        "\n",
        "# Convert data types\n",
        "train_data = train_data.astype('float32')\n",
        "train_target = train_target.astype('float32')\n",
        "test_data = test_data.astype('float32')\n",
        "test_target = test_target.astype('float32')\n",
        "\n",
        "# Reshape the data for RNN\n",
        "train_data = train_data.values.reshape((train_data.shape[0], 1, train_data.shape[1]))\n",
        "test_data = test_data.values.reshape((test_data.shape[0], 1, test_data.shape[1]))\n",
        "\n",
        "# Initialize the model\n",
        "model = Sequential()\n",
        "\n",
        "# Add layers to the model\n",
        "model.add(LSTM(32, input_shape=(train_data.shape[1], train_data.shape[2]), return_sequences=True)) # input layer\n",
        "model.add(Dropout(0.2))\n",
        "model.add(LSTM(64)) # hidden layer\n",
        "model.add(Dropout(0.2))\n",
        "model.add(Dense(1, activation='linear')) # output layer\n",
        "\n",
        "# Compile the model\n",
        "model.compile(optimizer='adam', loss='mean_squared_error', metrics=['accuracy'])\n",
        "\n",
        "# Train the model\n",
        "history = model.fit(train_data, train_target, epochs=50, batch_size=32, validation_data=(test_data, test_target), verbose=1)\n",
        "\n",
        "\n",
        "# Plot the accuracy over the epochs\n",
        "plt.plot(history.history['accuracy'])\n",
        "plt.plot(history.history['val_accuracy'])\n",
        "plt.title('Model accuracy')\n",
        "plt.ylabel('Accuracy')\n",
        "plt.xlabel('Epoch')\n",
        "plt.legend(['Train', 'Test'], loc='upper left')\n",
        "plt.show()\n",
        "\n",
        "# Plot the loss over the epochs\n",
        "\n",
        "plt.plot(history.history['loss'])\n",
        "plt.plot(history.history['val_loss'])\n",
        "plt.title('Model loss')\n",
        "plt.ylabel('Loss')\n",
        "plt.xlabel('Epoch')\n",
        "plt.legend(['Train', 'Test'], loc='upper left')\n",
        "plt.show()\n",
        "\n",
        "\n",
        "#Evaluation on test set\n",
        "\n",
        "y_pred = model.predict(test_data)\n",
        "mse = mean_squared_error(test_target, y_pred)\n",
        "r2 = r2_score(test_target, y_pred)\n",
        "\n",
        "print(\"Mean squared error: \", mse)\n",
        "print(\"R-squared: \", r2)\n",
        "\n",
        "\n",
        "#Print the final accuracy of the model\n",
        "\n",
        "scores = model.evaluate(test_data, test_target, verbose=0)\n",
        "print(\"Accuracy: %.2f%%\" % (scores[1]*100))\n",
        "\n"
      ]
    },
    {
      "cell_type": "markdown",
      "metadata": {
        "id": "NJI-_3mjCfW7"
      },
      "source": [
        "#Model Tuning (RNN)"
      ]
    },
    {
      "cell_type": "code",
      "execution_count": null,
      "metadata": {
        "colab": {
          "base_uri": "https://localhost:8080/"
        },
        "id": "roG9jSIECk5p",
        "outputId": "89101007-9cba-4b50-f854-21bccc442859"
      },
      "outputs": [
        {
          "name": "stderr",
          "output_type": "stream",
          "text": [
            "<ipython-input-54-dac348800659>:15: DeprecationWarning: KerasClassifier is deprecated, use Sci-Keras (https://github.com/adriangb/scikeras) instead. See https://www.adriangb.com/scikeras/stable/migration.html for help migrating.\n",
            "  model = KerasClassifier(build_fn=create_rnn_model, epochs=50, batch_size=32, verbose=0)\n",
            "/usr/local/lib/python3.8/dist-packages/joblib/externals/loky/process_executor.py:700: UserWarning: A worker stopped while some jobs were given to the executor. This can be caused by a too short worker timeout or by a memory leak.\n",
            "  warnings.warn(\n"
          ]
        }
      ],
      "source": [
        "from sklearn.model_selection import GridSearchCV\n",
        "from keras.wrappers.scikit_learn import KerasClassifier\n",
        "\n",
        "# Create a function to build the RNN model\n",
        "def create_rnn_model(num_layers=1, hidden_neurons=32, learning_rate=0.001):\n",
        "    model = Sequential()\n",
        "    for i in range(num_layers):\n",
        "        model.add(LSTM(hidden_neurons, input_shape=(train_data.shape[1], train_data.shape[2]), return_sequences=True))\n",
        "        model.add(Dropout(0.2))\n",
        "    model.add(Dense(1, activation='sigmoid'))\n",
        "    model.compile(loss='binary_crossentropy', optimizer=Adam(lr=learning_rate), metrics=['accuracy'])\n",
        "    return model\n",
        "\n",
        "# Create an instance of the model\n",
        "model = KerasClassifier(build_fn=create_rnn_model, epochs=50, batch_size=32, verbose=0)\n",
        "\n",
        "# Define the parameter grid\n",
        "param_grid = {'num_layers': [1, 2, 3],\n",
        "              'hidden_neurons': [32, 64, 128],\n",
        "              'learning_rate': [0.001, 0.01, 0.1]}\n",
        "\n",
        "# Create the grid search\n",
        "grid_search = GridSearchCV(estimator=model, param_grid=param_grid, cv=3, n_jobs=-1)\n",
        "grid_search.fit(train_data, train_target)\n",
        "\n",
        "# Summarize results\n",
        "print(\"Best: %f using %s\" % (grid_search.best_score_, grid_search.best_params_))\n",
        "means = grid_search.cv_results_['mean_test_score']\n",
        "stds = grid_search.cv_results_['std_test_score']\n",
        "params = grid_search.cv_results_['params']\n",
        "for mean, stdev, param in zip(means, stds, params):\n",
        "    print(\"%f (%f) with: %r\" % (mean, stdev, param))\n"
      ]
    }
  ],
  "metadata": {
    "colab": {
      "provenance": []
    },
    "kernelspec": {
      "display_name": "Python 3",
      "name": "python3"
    },
    "language_info": {
      "name": "python"
    }
  },
  "nbformat": 4,
  "nbformat_minor": 0
}
